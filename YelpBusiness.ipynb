{
 "cells": [
  {
   "cell_type": "markdown",
   "metadata": {},
   "source": [
    "# Yelp business analysis\n",
    "\n",
    "You can find the dataset at https://www.yelp.com/dataset"
   ]
  },
  {
   "cell_type": "markdown",
   "metadata": {},
   "source": [
    "### This notebook will evaluate Yelp businesses through Machine Learning regressions, we will examine the following questions:\n",
    "\n",
    "Does a high star rating correlate with the # of reviews?\n",
    "\n",
    "Can we predict if a business is open based on how many reviews it has?"
   ]
  },
  {
   "cell_type": "code",
   "execution_count": 2,
   "metadata": {
    "scrolled": true
   },
   "outputs": [
    {
     "data": {
      "text/html": [
       "<div>\n",
       "<style scoped>\n",
       "    .dataframe tbody tr th:only-of-type {\n",
       "        vertical-align: middle;\n",
       "    }\n",
       "\n",
       "    .dataframe tbody tr th {\n",
       "        vertical-align: top;\n",
       "    }\n",
       "\n",
       "    .dataframe thead th {\n",
       "        text-align: right;\n",
       "    }\n",
       "</style>\n",
       "<table border=\"1\" class=\"dataframe\">\n",
       "  <thead>\n",
       "    <tr style=\"text-align: right;\">\n",
       "      <th></th>\n",
       "      <th>business_id</th>\n",
       "      <th>name</th>\n",
       "      <th>address</th>\n",
       "      <th>city</th>\n",
       "      <th>state</th>\n",
       "      <th>postal_code</th>\n",
       "      <th>latitude</th>\n",
       "      <th>longitude</th>\n",
       "      <th>stars</th>\n",
       "      <th>review_count</th>\n",
       "      <th>is_open</th>\n",
       "      <th>attributes</th>\n",
       "      <th>categories</th>\n",
       "      <th>hours</th>\n",
       "    </tr>\n",
       "  </thead>\n",
       "  <tbody>\n",
       "    <tr>\n",
       "      <td>0</td>\n",
       "      <td>f9NumwFMBDn751xgFiRbNA</td>\n",
       "      <td>The Range At Lake Norman</td>\n",
       "      <td>10913 Bailey Rd</td>\n",
       "      <td>Cornelius</td>\n",
       "      <td>NC</td>\n",
       "      <td>28031</td>\n",
       "      <td>35.462724</td>\n",
       "      <td>-80.852612</td>\n",
       "      <td>3.5</td>\n",
       "      <td>36</td>\n",
       "      <td>1</td>\n",
       "      <td>{'BusinessAcceptsCreditCards': 'True', 'BikePa...</td>\n",
       "      <td>Active Life, Gun/Rifle Ranges, Guns &amp; Ammo, Sh...</td>\n",
       "      <td>{'Monday': '10:0-18:0', 'Tuesday': '11:0-20:0'...</td>\n",
       "    </tr>\n",
       "    <tr>\n",
       "      <td>1</td>\n",
       "      <td>Yzvjg0SayhoZgCljUJRF9Q</td>\n",
       "      <td>Carlos Santo, NMD</td>\n",
       "      <td>8880 E Via Linda, Ste 107</td>\n",
       "      <td>Scottsdale</td>\n",
       "      <td>AZ</td>\n",
       "      <td>85258</td>\n",
       "      <td>33.569404</td>\n",
       "      <td>-111.890264</td>\n",
       "      <td>5.0</td>\n",
       "      <td>4</td>\n",
       "      <td>1</td>\n",
       "      <td>{'GoodForKids': 'True', 'ByAppointmentOnly': '...</td>\n",
       "      <td>Health &amp; Medical, Fitness &amp; Instruction, Yoga,...</td>\n",
       "      <td>None</td>\n",
       "    </tr>\n",
       "    <tr>\n",
       "      <td>2</td>\n",
       "      <td>XNoUzKckATkOD1hP6vghZg</td>\n",
       "      <td>Felinus</td>\n",
       "      <td>3554 Rue Notre-Dame O</td>\n",
       "      <td>Montreal</td>\n",
       "      <td>QC</td>\n",
       "      <td>H4C 1P4</td>\n",
       "      <td>45.479984</td>\n",
       "      <td>-73.580070</td>\n",
       "      <td>5.0</td>\n",
       "      <td>5</td>\n",
       "      <td>1</td>\n",
       "      <td>None</td>\n",
       "      <td>Pets, Pet Services, Pet Groomers</td>\n",
       "      <td>None</td>\n",
       "    </tr>\n",
       "    <tr>\n",
       "      <td>3</td>\n",
       "      <td>6OAZjbxqM5ol29BuHsil3w</td>\n",
       "      <td>Nevada House of Hose</td>\n",
       "      <td>1015 Sharp Cir</td>\n",
       "      <td>North Las Vegas</td>\n",
       "      <td>NV</td>\n",
       "      <td>89030</td>\n",
       "      <td>36.219728</td>\n",
       "      <td>-115.127725</td>\n",
       "      <td>2.5</td>\n",
       "      <td>3</td>\n",
       "      <td>0</td>\n",
       "      <td>{'BusinessAcceptsCreditCards': 'True', 'ByAppo...</td>\n",
       "      <td>Hardware Stores, Home Services, Building Suppl...</td>\n",
       "      <td>{'Monday': '7:0-16:0', 'Tuesday': '7:0-16:0', ...</td>\n",
       "    </tr>\n",
       "    <tr>\n",
       "      <td>4</td>\n",
       "      <td>51M2Kk903DFYI6gnB5I6SQ</td>\n",
       "      <td>USE MY GUY SERVICES LLC</td>\n",
       "      <td>4827 E Downing Cir</td>\n",
       "      <td>Mesa</td>\n",
       "      <td>AZ</td>\n",
       "      <td>85205</td>\n",
       "      <td>33.428065</td>\n",
       "      <td>-111.726648</td>\n",
       "      <td>4.5</td>\n",
       "      <td>26</td>\n",
       "      <td>1</td>\n",
       "      <td>{'BusinessAcceptsCreditCards': 'True', 'ByAppo...</td>\n",
       "      <td>Home Services, Plumbing, Electricians, Handyma...</td>\n",
       "      <td>{'Monday': '0:0-0:0', 'Tuesday': '9:0-16:0', '...</td>\n",
       "    </tr>\n",
       "  </tbody>\n",
       "</table>\n",
       "</div>"
      ],
      "text/plain": [
       "              business_id                      name  \\\n",
       "0  f9NumwFMBDn751xgFiRbNA  The Range At Lake Norman   \n",
       "1  Yzvjg0SayhoZgCljUJRF9Q         Carlos Santo, NMD   \n",
       "2  XNoUzKckATkOD1hP6vghZg                   Felinus   \n",
       "3  6OAZjbxqM5ol29BuHsil3w      Nevada House of Hose   \n",
       "4  51M2Kk903DFYI6gnB5I6SQ   USE MY GUY SERVICES LLC   \n",
       "\n",
       "                     address             city state postal_code   latitude  \\\n",
       "0            10913 Bailey Rd        Cornelius    NC       28031  35.462724   \n",
       "1  8880 E Via Linda, Ste 107       Scottsdale    AZ       85258  33.569404   \n",
       "2      3554 Rue Notre-Dame O         Montreal    QC     H4C 1P4  45.479984   \n",
       "3             1015 Sharp Cir  North Las Vegas    NV       89030  36.219728   \n",
       "4         4827 E Downing Cir             Mesa    AZ       85205  33.428065   \n",
       "\n",
       "    longitude  stars  review_count  is_open  \\\n",
       "0  -80.852612    3.5            36        1   \n",
       "1 -111.890264    5.0             4        1   \n",
       "2  -73.580070    5.0             5        1   \n",
       "3 -115.127725    2.5             3        0   \n",
       "4 -111.726648    4.5            26        1   \n",
       "\n",
       "                                          attributes  \\\n",
       "0  {'BusinessAcceptsCreditCards': 'True', 'BikePa...   \n",
       "1  {'GoodForKids': 'True', 'ByAppointmentOnly': '...   \n",
       "2                                               None   \n",
       "3  {'BusinessAcceptsCreditCards': 'True', 'ByAppo...   \n",
       "4  {'BusinessAcceptsCreditCards': 'True', 'ByAppo...   \n",
       "\n",
       "                                          categories  \\\n",
       "0  Active Life, Gun/Rifle Ranges, Guns & Ammo, Sh...   \n",
       "1  Health & Medical, Fitness & Instruction, Yoga,...   \n",
       "2                   Pets, Pet Services, Pet Groomers   \n",
       "3  Hardware Stores, Home Services, Building Suppl...   \n",
       "4  Home Services, Plumbing, Electricians, Handyma...   \n",
       "\n",
       "                                               hours  \n",
       "0  {'Monday': '10:0-18:0', 'Tuesday': '11:0-20:0'...  \n",
       "1                                               None  \n",
       "2                                               None  \n",
       "3  {'Monday': '7:0-16:0', 'Tuesday': '7:0-16:0', ...  \n",
       "4  {'Monday': '0:0-0:0', 'Tuesday': '9:0-16:0', '...  "
      ]
     },
     "execution_count": 2,
     "metadata": {},
     "output_type": "execute_result"
    }
   ],
   "source": [
    "#take a look at the data\n",
    "import pandas as pd\n",
    "import matplotlib.pyplot as plt\n",
    "import numpy as np\n",
    "from sklearn import datasets, linear_model\n",
    "import statsmodels.api as sm\n",
    "from sklearn.linear_model import LogisticRegression\n",
    "\n",
    "data = pd.read_json('yelp_academic_dataset_business.json', lines=True)\n",
    "data.head()"
   ]
  },
  {
   "cell_type": "code",
   "execution_count": 3,
   "metadata": {},
   "outputs": [
    {
     "data": {
      "text/plain": [
       "business_id         0\n",
       "name                0\n",
       "address             0\n",
       "city                0\n",
       "state               0\n",
       "postal_code         0\n",
       "latitude            0\n",
       "longitude           0\n",
       "stars               0\n",
       "review_count        0\n",
       "is_open             0\n",
       "attributes      29045\n",
       "categories        524\n",
       "hours           44843\n",
       "dtype: int64"
      ]
     },
     "execution_count": 3,
     "metadata": {},
     "output_type": "execute_result"
    }
   ],
   "source": [
    "#Do we have any null data? No cleaning required\n",
    "data.isnull().sum()"
   ]
  },
  {
   "cell_type": "code",
   "execution_count": 3,
   "metadata": {},
   "outputs": [
    {
     "data": {
      "text/plain": [
       "209393"
      ]
     },
     "execution_count": 3,
     "metadata": {},
     "output_type": "execute_result"
    }
   ],
   "source": [
    "#how long is our dataset?\n",
    "len(data)"
   ]
  },
  {
   "cell_type": "code",
   "execution_count": 4,
   "metadata": {},
   "outputs": [
    {
     "data": {
      "text/plain": [
       "3.5380552358483808"
      ]
     },
     "execution_count": 4,
     "metadata": {},
     "output_type": "execute_result"
    }
   ],
   "source": [
    "#Average star rating of all businesses\n",
    "data.stars.mean()    "
   ]
  },
  {
   "cell_type": "code",
   "execution_count": 5,
   "metadata": {
    "scrolled": true
   },
   "outputs": [
    {
     "data": {
      "text/plain": [
       "36.93750507419064"
      ]
     },
     "execution_count": 5,
     "metadata": {},
     "output_type": "execute_result"
    }
   ],
   "source": [
    "#Average number of reviews of all businesses\n",
    "data.review_count.mean()"
   ]
  },
  {
   "cell_type": "markdown",
   "metadata": {},
   "source": [
    "## Linear Regression\n",
    "\n",
    "Does a high star rating correlate with the # of reviews?"
   ]
  },
  {
   "cell_type": "code",
   "execution_count": 6,
   "metadata": {},
   "outputs": [
    {
     "data": {
      "image/png": "[encoded data removed]",
      "text/plain": [
       "<Figure size 432x288 with 1 Axes>"
      ]
     },
     "metadata": {
      "needs_background": "light"
     },
     "output_type": "display_data"
    }
   ],
   "source": [
    "#defining variables from data\n",
    "stars = data['stars']\n",
    "reviews = data['review_count']\n",
    "\n",
    "# Split the data into training/testing sets\n",
    "X_train = stars[:-250]\n",
    "X_test = stars[-250:]\n",
    "Y_train = reviews[:-250]\n",
    "Y_test = reviews[-250:]\n",
    "\n",
    "# Plot outputs\n",
    "plt.scatter(X_test, Y_test)\n",
    "plt.title('Reviews vs Stars')\n",
    "plt.xlabel('Stars')\n",
    "plt.ylabel('Reviews')\n",
    "plt.yticks(())\n",
    "\n",
    "plt.show()"
   ]
  },
  {
   "cell_type": "code",
   "execution_count": 7,
   "metadata": {},
   "outputs": [
    {
     "name": "stderr",
     "output_type": "stream",
     "text": [
      "/opt/anaconda3/lib/python3.7/site-packages/numpy/core/fromnumeric.py:2495: FutureWarning: Method .ptp is deprecated and will be removed in a future version. Use numpy.ptp instead.\n",
      "  return ptp(axis=axis, out=out, **kwargs)\n"
     ]
    },
    {
     "data": {
      "text/html": [
       "<table class=\"simpletable\">\n",
       "<caption>OLS Regression Results</caption>\n",
       "<tr>\n",
       "  <th>Dep. Variable:</th>      <td>review_count</td>   <th>  R-squared:         </th>  <td>   0.003</td>  \n",
       "</tr>\n",
       "<tr>\n",
       "  <th>Model:</th>                   <td>OLS</td>       <th>  Adj. R-squared:    </th>  <td>   0.003</td>  \n",
       "</tr>\n",
       "<tr>\n",
       "  <th>Method:</th>             <td>Least Squares</td>  <th>  F-statistic:       </th>  <td>   526.5</td>  \n",
       "</tr>\n",
       "<tr>\n",
       "  <th>Date:</th>             <td>Tue, 07 Apr 2020</td> <th>  Prob (F-statistic):</th>  <td>2.26e-116</td> \n",
       "</tr>\n",
       "<tr>\n",
       "  <th>Time:</th>                 <td>12:55:21</td>     <th>  Log-Likelihood:    </th> <td>-1.3051e+06</td>\n",
       "</tr>\n",
       "<tr>\n",
       "  <th>No. Observations:</th>      <td>209393</td>      <th>  AIC:               </th>  <td>2.610e+06</td> \n",
       "</tr>\n",
       "<tr>\n",
       "  <th>Df Residuals:</th>          <td>209391</td>      <th>  BIC:               </th>  <td>2.610e+06</td> \n",
       "</tr>\n",
       "<tr>\n",
       "  <th>Df Model:</th>              <td>     1</td>      <th>                     </th>      <td> </td>     \n",
       "</tr>\n",
       "<tr>\n",
       "  <th>Covariance Type:</th>      <td>nonrobust</td>    <th>                     </th>      <td> </td>     \n",
       "</tr>\n",
       "</table>\n",
       "<table class=\"simpletable\">\n",
       "<tr>\n",
       "    <td></td>       <th>coef</th>     <th>std err</th>      <th>t</th>      <th>P>|t|</th>  <th>[0.025</th>    <th>0.975]</th>  \n",
       "</tr>\n",
       "<tr>\n",
       "  <th>const</th> <td>   15.5848</td> <td>    0.969</td> <td>   16.088</td> <td> 0.000</td> <td>   13.686</td> <td>   17.483</td>\n",
       "</tr>\n",
       "<tr>\n",
       "  <th>stars</th> <td>    6.0352</td> <td>    0.263</td> <td>   22.946</td> <td> 0.000</td> <td>    5.520</td> <td>    6.551</td>\n",
       "</tr>\n",
       "</table>\n",
       "<table class=\"simpletable\">\n",
       "<tr>\n",
       "  <th>Omnibus:</th>       <td>457177.179</td> <th>  Durbin-Watson:     </th>    <td>   1.989</td>   \n",
       "</tr>\n",
       "<tr>\n",
       "  <th>Prob(Omnibus):</th>   <td> 0.000</td>   <th>  Jarque-Bera (JB):  </th> <td>5465347421.661</td>\n",
       "</tr>\n",
       "<tr>\n",
       "  <th>Skew:</th>            <td>19.594</td>   <th>  Prob(JB):          </th>    <td>    0.00</td>   \n",
       "</tr>\n",
       "<tr>\n",
       "  <th>Kurtosis:</th>        <td>793.497</td>  <th>  Cond. No.          </th>    <td>    14.2</td>   \n",
       "</tr>\n",
       "</table><br/><br/>Warnings:<br/>[1] Standard Errors assume that the covariance matrix of the errors is correctly specified."
      ],
      "text/plain": [
       "<class 'statsmodels.iolib.summary.Summary'>\n",
       "\"\"\"\n",
       "                            OLS Regression Results                            \n",
       "==============================================================================\n",
       "Dep. Variable:           review_count   R-squared:                       0.003\n",
       "Model:                            OLS   Adj. R-squared:                  0.003\n",
       "Method:                 Least Squares   F-statistic:                     526.5\n",
       "Date:                Tue, 07 Apr 2020   Prob (F-statistic):          2.26e-116\n",
       "Time:                        12:55:21   Log-Likelihood:            -1.3051e+06\n",
       "No. Observations:              209393   AIC:                         2.610e+06\n",
       "Df Residuals:                  209391   BIC:                         2.610e+06\n",
       "Df Model:                           1                                         \n",
       "Covariance Type:            nonrobust                                         \n",
       "==============================================================================\n",
       "                 coef    std err          t      P>|t|      [0.025      0.975]\n",
       "------------------------------------------------------------------------------\n",
       "const         15.5848      0.969     16.088      0.000      13.686      17.483\n",
       "stars          6.0352      0.263     22.946      0.000       5.520       6.551\n",
       "==============================================================================\n",
       "Omnibus:                   457177.179   Durbin-Watson:                   1.989\n",
       "Prob(Omnibus):                  0.000   Jarque-Bera (JB):       5465347421.661\n",
       "Skew:                          19.594   Prob(JB):                         0.00\n",
       "Kurtosis:                     793.497   Cond. No.                         14.2\n",
       "==============================================================================\n",
       "\n",
       "Warnings:\n",
       "[1] Standard Errors assume that the covariance matrix of the errors is correctly specified.\n",
       "\"\"\""
      ]
     },
     "execution_count": 7,
     "metadata": {},
     "output_type": "execute_result"
    }
   ],
   "source": [
    "#adding constant to regression equation\n",
    "x = sm.add_constant(stars)\n",
    "\n",
    "#compute OLS regression and show statistics\n",
    "results = sm.OLS(reviews,x).fit()\n",
    "results.summary()"
   ]
  },
  {
   "cell_type": "code",
   "execution_count": 8,
   "metadata": {},
   "outputs": [
    {
     "data": {
      "image/png": "[encoded data removed]",
      "text/plain": [
       "<Figure size 432x288 with 1 Axes>"
      ]
     },
     "metadata": {
      "needs_background": "light"
     },
     "output_type": "display_data"
    }
   ],
   "source": [
    "#Plotting the regression line\n",
    "plt.scatter(X_test, Y_test)\n",
    " \n",
    "#Regression line (values taken from coefficients above)\n",
    "yhat = 6.0352*stars + 15.5848\n",
    "\n",
    "#plotting line\n",
    "fig = plt.plot(stars,yhat, lw=2, c='red', label = 'regression line')\n",
    "plt.title('Reviews vs Stars')\n",
    "plt.xlabel('Stars')\n",
    "plt.ylabel('Reviews')\n",
    "plt.show()"
   ]
  },
  {
   "cell_type": "markdown",
   "metadata": {},
   "source": [
    "Given the high number of low-review businesses, there is a very small correlation between reviews and star ratings (low R-squared value).\n",
    "\n",
    "However it is worth noting that high review outliers are more common in highly-rates businesses."
   ]
  },
  {
   "cell_type": "markdown",
   "metadata": {},
   "source": [
    "## Logistic Regression\n",
    "\n",
    "Can we predict if a business is open based on how many reviews it has?\n",
    "This will tell us if # of yelp ratings indicate business success"
   ]
  },
  {
   "cell_type": "code",
   "execution_count": 10,
   "metadata": {
    "scrolled": true
   },
   "outputs": [
    {
     "data": {
      "text/plain": [
       "<matplotlib.collections.PathCollection at 0x1c1957fd50>"
      ]
     },
     "execution_count": 10,
     "metadata": {},
     "output_type": "execute_result"
    },
    {
     "data": {
      "image/png": "[encoded data removed]",
      "text/plain": [
       "<Figure size 432x288 with 1 Axes>"
      ]
     },
     "metadata": {
      "needs_background": "light"
     },
     "output_type": "display_data"
    }
   ],
   "source": [
    "#defining variables from data\n",
    "review_count = data['review_count']\n",
    "is_open = data['is_open']\n",
    "\n",
    "#graphing\n",
    "plt.scatter(review_count, is_open, color='red')"
   ]
  },
  {
   "cell_type": "markdown",
   "metadata": {},
   "source": [
    "^^at first glance, it seems that the high # of reviews (above 1800-2000) does make it more likely that the business is open  "
   ]
  },
  {
   "cell_type": "code",
   "execution_count": 15,
   "metadata": {},
   "outputs": [],
   "source": [
    "#splitting data for regression\n",
    "from sklearn.model_selection import train_test_split\n",
    "X_train, X_test, Y_train, Y_test = train_test_split(review_count, is_open, test_size=0.1)"
   ]
  },
  {
   "cell_type": "code",
   "execution_count": 31,
   "metadata": {},
   "outputs": [
    {
     "name": "stderr",
     "output_type": "stream",
     "text": [
      "/opt/anaconda3/lib/python3.7/site-packages/sklearn/linear_model/logistic.py:432: FutureWarning: Default solver will be changed to 'lbfgs' in 0.22. Specify a solver to silence this warning.\n",
      "  FutureWarning)\n",
      "/opt/anaconda3/lib/python3.7/site-packages/sklearn/utils/validation.py:724: DataConversionWarning: A column-vector y was passed when a 1d array was expected. Please change the shape of y to (n_samples, ), for example using ravel().\n",
      "  y = column_or_1d(y, warn=True)\n"
     ]
    },
    {
     "data": {
      "text/plain": [
       "LogisticRegression(C=1.0, class_weight=None, dual=False, fit_intercept=True,\n",
       "                   intercept_scaling=1, l1_ratio=None, max_iter=100,\n",
       "                   multi_class='warn', n_jobs=None, penalty='l2',\n",
       "                   random_state=None, solver='warn', tol=0.0001, verbose=0,\n",
       "                   warm_start=False)"
      ]
     },
     "execution_count": 31,
     "metadata": {},
     "output_type": "execute_result"
    }
   ],
   "source": [
    "#fitting train data to model\n",
    "model = LogisticRegression()\n",
    "\n",
    "X_train = X_train.reshape(-1,1)\n",
    "Y_train = Y_train.reshape(-1,1)\n",
    "\n",
    "model.fit(X_train, Y_train)"
   ]
  },
  {
   "cell_type": "code",
   "execution_count": 35,
   "metadata": {},
   "outputs": [
    {
     "data": {
      "text/plain": [
       "array([1, 1, 1, ..., 1, 1, 1])"
      ]
     },
     "execution_count": 35,
     "metadata": {},
     "output_type": "execute_result"
    }
   ],
   "source": [
    "X_test = X_test.values.reshape(-1,1)\n",
    "\n",
    "model.predict(X_test)"
   ]
  },
  {
   "cell_type": "code",
   "execution_count": 39,
   "metadata": {},
   "outputs": [
    {
     "data": {
      "text/plain": [
       "0.8066857688634193"
      ]
     },
     "execution_count": 39,
     "metadata": {},
     "output_type": "execute_result"
    }
   ],
   "source": [
    "#how good is our model\n",
    "model.score(X_test, Y_test)"
   ]
  },
  {
   "cell_type": "markdown",
   "metadata": {},
   "source": [
    "^^our model is around 80% accurate"
   ]
  },
  {
   "cell_type": "code",
   "execution_count": 38,
   "metadata": {},
   "outputs": [
    {
     "data": {
      "text/plain": [
       "array([[0.17809893, 0.82190107],\n",
       "       [0.19616152, 0.80383848],\n",
       "       [0.20161131, 0.79838869],\n",
       "       ...,\n",
       "       [0.20132167, 0.79867833],\n",
       "       [0.20132167, 0.79867833],\n",
       "       [0.20132167, 0.79867833]])"
      ]
     },
     "execution_count": 38,
     "metadata": {},
     "output_type": "execute_result"
    }
   ],
   "source": [
    "model.predict_proba(X_test)"
   ]
  },
  {
   "cell_type": "markdown",
   "metadata": {},
   "source": [
    "^^for lower review numbers there is between a 17.8%-20.1% probability of a business being open\n",
    "for higher reviews, there is between a 79.8%-82.2% probabilty that a business will be open."
   ]
  }
 ],
 "metadata": {
  "kernelspec": {
   "display_name": "Python 3",
   "language": "python",
   "name": "python3"
  },
  "language_info": {
   "codemirror_mode": {
    "name": "ipython",
    "version": 3
   },
   "file_extension": ".py",
   "mimetype": "text/x-python",
   "name": "python",
   "nbconvert_exporter": "python",
   "pygments_lexer": "ipython3",
   "version": "3.7.4"
  }
 },
 "nbformat": 4,
 "nbformat_minor": 2
}
